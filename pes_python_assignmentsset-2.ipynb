{
 "cells": [
  {
   "cell_type": "markdown",
   "metadata": {},
   "source": [
    "### 21. Math and Random Modules\n",
    "Using the built-in functions on Numbers perform following operations\n",
    "\n",
    "a) Round of the given floating point number. Example:  n=0.543 then round it next decimal number, i.e n=1.0 Use round() function\n",
    "\n",
    "b) Find out the square root of a given number. (Use sqrt(x) function)\n",
    "\n",
    "c) Generate random number between 0, and 1 ( use  random() function)\n",
    "\n",
    "d) Generate random number between 10 and  500. (Use uniform() function)\n",
    "\n",
    "e) Explore all Math and Random module functions  on a given number/ List."
   ]
  },
  {
   "cell_type": "code",
   "execution_count": null,
   "metadata": {},
   "outputs": [],
   "source": [
    "\n",
    "print(\"Round of the given floating point number.\")\n",
    "n=0.543\n",
    "round_n=round(n)\n",
    "print(round_n)\n",
    "print()\n",
    "\n",
    "import math \n",
    "print(\"Find out the square root of a given number.\")\n",
    "num=121\n",
    "sqrt_num=math.sqrt(num)\n",
    "print(sqrt_num)\n",
    "print()\n",
    "\n",
    "import random\n",
    "print(\"Printing random number between 0 and 1\")\n",
    "rnd=random.random()\n",
    "print(rnd)\n",
    "print()\n",
    "\n",
    "print(\"Printing random number between 10 and 500\")\n",
    "uniform_rnd=random.uniform(10,500)\n",
    "print(uniform_rnd)\n",
    "print()\n",
    "\n",
    "print(\"Randomly select element from the range using step\")\n",
    "range_rnd=random.randrange(0, 30, 10)\n",
    "print(range_rnd)\n",
    "print()\n",
    "\n",
    "print(\"Randomly select element from a non-empty sequence.\")\n",
    "rnd_choice=random.choice('python')\n",
    "print(rnd_choice)\n",
    "print()\n",
    "\n",
    "print(\"Randomly shuffle list\")\n",
    "list_num=[12,23,45,67,65,43]\n",
    "random.shuffle(list_num)\n",
    "print(list_num)\n",
    "print()\n"
   ]
  },
  {
   "cell_type": "markdown",
   "metadata": {},
   "source": [
    "## 22. Math- Trigonometric functions\n",
    "\n",
    "Read the value x and y from the user and apply all trigonometric functions on these numbers. Note: Refer the tutorial Trigonometric operation table.\n"
   ]
  },
  {
   "cell_type": "code",
   "execution_count": null,
   "metadata": {},
   "outputs": [],
   "source": [
    "x = float(input(\"Enter number x:_\"))\n",
    "y = float(input(\"Enter number y:_\"))\n",
    "print(\"The sin of x and y is \",math.sin(x),\" and \",math.sin(y)) \n",
    "print(\"The tan of x and y is \",math.tan(x),\" and \",math.tan(y)) \n",
    "print(\"The cos of x and y is \",math.cos(x),\" and \",math.cos(y)) \n",
    "\n",
    "import cmath\n",
    "      \n",
    "z = complex(x,y)\n",
    "print (\"The arc sine is: \",cmath.asin(z))\n",
    "print (\"The arc cosine is: \",cmath.acos(z))  \n",
    "print (\"The arc tangent is: \",cmath.atan(z))\n",
    "print (\"The hyperbolic sine is : \",cmath.sinh(z))\n",
    "print (\"The hyperbolic cosine is : \",cmath.cosh(z))  \n",
    "print (\"The hyperbolic tangent is : \",cmath.tanh(z))\n",
    "print (\"The inverse hyperbolic sine is : \",cmath.asinh(z))\n",
    "print (\"The inverse hyperbolic cosine is : \",cmath.acosh(z))  \n",
    "print (\"The inverse hyperbolic tangent is : \",cmath.atanh(z))"
   ]
  },
  {
   "cell_type": "markdown",
   "metadata": {},
   "source": [
    "## 23. Math – math.pi application\n",
    "\n",
    "Find the area of Circle given that radius of a circle. (Use pi value from Math module as mathematical constant)\n"
   ]
  },
  {
   "cell_type": "code",
   "execution_count": null,
   "metadata": {},
   "outputs": [],
   "source": [
    "radius = 3\n",
    "area_of_circle = math.pi * radius**2\n",
    "print(\"Area of circle with radius is :\",area_of_circle)"
   ]
  },
  {
   "cell_type": "markdown",
   "metadata": {},
   "source": [
    "## 24. Strings\n",
    "Special Characters: Write program to explore all Escape characters specified in Tutorial (Under String chapter)\n"
   ]
  },
  {
   "cell_type": "code",
   "execution_count": null,
   "metadata": {},
   "outputs": [],
   "source": [
    "txt = \"This is double quote \\\"backslash\\\" in the sentence.\"\n",
    "print(txt)\n",
    "txt = 'This is single quote \\'backslash\\' in the sentence.'\n",
    "print(txt)\n",
    "txt = \"This will insert one \\\\ (backslash).\"\n",
    "print(txt)\n",
    "txt = \"This will print hello in new line \\nhello\"\n",
    "print(txt)\n",
    "txt = \"Shift your cursor to the beginning of the string or line and replace the first characters\\rHello World!\"\n",
    "print(txt)\n",
    "txt = \"Adding a tab in string Hello\\tWorld!\"\n",
    "print(txt)\n",
    "txt = \"Erase a character using backspace escape char in string, Hello \\bWorld!\"\n",
    "print(txt) \n",
    "txt = \"Printing string corresponding to octal value \\110\\145\\154\\154\\157\"\n",
    "print(txt)\n",
    "txt = \"Printing string corresponding to hex value \\x48\\x65\\x6c\\x6c\\x6f\"\n",
    "print(txt) "
   ]
  },
  {
   "cell_type": "markdown",
   "metadata": {},
   "source": [
    "## 25.\n",
    "Write a program to print the different data types (Numbers, strings characters) using the Format symbols (Refer to different format symbols specified in Tutorial)\n"
   ]
  },
  {
   "cell_type": "code",
   "execution_count": null,
   "metadata": {},
   "outputs": [],
   "source": [
    "name=\"python\"\n",
    "print(\"Hello, %s!\" % name)\n",
    "print()\n",
    "age=30\n",
    "print(\"Age is %d years old.\" % age)\n",
    "print()\n",
    "height=171.56\n",
    "print(\"Height is %f cm\" % height)\n",
    "print()\n",
    "mylist = [1,2,3]\n",
    "print(\"Printing a list: %s\" % mylist)\n",
    "print()\n",
    "data = (\"John\", \"Doe\", \"Python}\")\n",
    "format_string = \"Hello %s %s. You are going to learn $%s.\"\n",
    "print(format_string % data)"
   ]
  },
  {
   "cell_type": "markdown",
   "metadata": {},
   "source": [
    "## 26. \n",
    "Receive the encoded string from your friend & decode it to check the original message. PS: You will receive Encoded string and the Algorithm used for encoding.\n"
   ]
  },
  {
   "cell_type": "code",
   "execution_count": null,
   "metadata": {},
   "outputs": [],
   "source": [
    "def decrypt(text,cipherKey):\n",
    "    decryptedTxt = \"\"\n",
    "    for char in text:\n",
    "        if char.isalpha():\n",
    "            decryptedTxt += chr((ord(char) - cipherKey - 97) % 26 + 97)\n",
    "        else:\n",
    "            decryptedTxt += char\n",
    "    return decryptedTxt\n",
    "input_str=input(\"Enter the endcoded string:_\")\n",
    "print(\"The decoded string is:\",decrypt(input_str,3))"
   ]
  },
  {
   "cell_type": "markdown",
   "metadata": {},
   "source": [
    "## 27.\n",
    "Write a program to check given string is Palindrome or not.That is reverse the given string and check whether it is same as original string, if so then it is palindrome. ",
    "Example: String = \"malayalam\"  reverse string = \"malayalam\" hence given string is palindrome. Use built functions to check given string is palindrome or not.\n"
   ]
  },
  {
   "cell_type": "code",
   "execution_count": null,
   "metadata": {},
   "outputs": [],
   "source": [
    "def isPalindrome(s):\n",
    "    return s == s[::-1]\n",
    " \n",
    " \n",
    "input_str = input(\"Enter a string to check if it a palindrome:_\")\n",
    "result = isPalindrome(input_str)\n",
    " \n",
    "if result:\n",
    "    print(\"Yes\")\n",
    "else:\n",
    "    print(\"No\")"
   ]
  },
  {
   "cell_type": "markdown",
   "metadata": {},
   "source": [
    "## 28. \n",
    "Write a program to check how many ovals present in the given string. That is, count the number of \" a e i o u\" in the given string and print the numbers against each oval. Example:- \"This is Python\" Number of total ovals = 3, i = 2, o =1\n"
   ]
  },
  {
   "cell_type": "code",
   "execution_count": null,
   "metadata": {},
   "outputs": [],
   "source": [
    "def vowelCount(input_str, vowels):\n",
    "    input_str = string.lower()#convert into lower case\n",
    "    result = [each for each in input_str if each in vowels]\n",
    "    count = {}.fromkeys(result, 0)#create key for each char in string 'aeiou'\n",
    "    #count for each vowel char\n",
    "    for char in string:\n",
    "        if char in count:\n",
    "            count[char] += 1    \n",
    "    return (len(result),count)\n",
    "vowels = 'aeiou'\n",
    "inputStr = input(\"Enter the input sentence to count number of vowels:_\")\n",
    "tupleResult = vowelCount(inputStr, vowels)\n",
    "print(\"Number of total vowels = \",tupleResult[0],\",\",tupleResult[1])"
   ]
  },
  {
   "cell_type": "markdown",
   "metadata": {},
   "source": [
    "## 29.\n",
    "Apply all built in functions on Strings in your program. Note: There are 40 string functions. Use Tutorial for the help. Note: Each program should have 5 string built in functions(so write 8 programs to cover all string functions)\n"
   ]
  },
  {
   "cell_type": "code",
   "execution_count": null,
   "metadata": {},
   "outputs": [],
   "source": [
    "txt = 'python is awesome'\n",
    "print(\"input string is :-'%s'\" %txt)\n",
    "capital = txt.capitalize()\n",
    "print(\"1. Capitalise the first word:- %s\" %capital,\"\\n\")\n",
    "\n",
    "casefold = capital.casefold()\n",
    "print(\"2. Convert string to lower case:- %s\" %casefold,\"\\n\")\n",
    "\n",
    "center = txt.center(50)\n",
    "print(\"3. Print txt, taking up the space of 50 characters, with txt in the middle::-\\n%s\"%center,\"\\n\")\n",
    "\n",
    "txt1 = \"Bond! James Bond\"\n",
    "count = txt1.count('Bond')\n",
    "print(\"4. Return the number of times the word appears in the string::- %s\"%count,\"\\n\")\n",
    "\n",
    "encodedStr = 'Ståle'.encode()\n",
    "print(\"5. Return encoded string:-\",encodedStr,\"\\n\")\n",
    "\n",
    "endswith = txt.endswith(\".\")\n",
    "print(\"6. Check if string ends with fullstop:- \",endswith,\"\\n\")\n",
    "\n",
    "txt2 = \"P\\ty\\tt\\th\\to\\tn\"\n",
    "expandTabs =  txt2.expandtabs(2)\n",
    "print(\"7. Set the tab size to 2 whitespaces:\",expandTabs,\"\\n\")\n",
    "\n",
    "findword = txt.find('awesome')\n",
    "print(\"8. Where in the text is the word 'awesome':-\",findword,\"\\n\")\n",
    "\n",
    "txt11 = \"9. Employee Salary is Rs.{id:.2f} per month\"\n",
    "print(txt11.format(id = 334567),\"\\n\")\n",
    "\n",
    "point = {'x':2,'y':3}\n",
    "print('10. {x} {y}'.format_map(point),\"\\n\")\n",
    "\n",
    "txt3 = \"Hello, welcome to my world.\"\n",
    "indexword = txt3.index(\"welcome\")\n",
    "print(\"11. The index for word 'welcome' is \", indexword,\"\\n\")\n",
    "\n",
    "txt4 = \"Python1234\"\n",
    "isAlphaNum = txt4.isalnum()\n",
    "print(\"12. Check if given string is alpha numeric: \",isAlphaNum,\"\\n\")\n",
    "\n",
    "txt5 = \"PythonWorld\"\n",
    "isAlpha = txt5.isalpha()\n",
    "print(\"13. Check if all the characters in the text are letters:\",isAlpha,\"\\n\")\n",
    "\n",
    "txt6 = \"\\u0034\" \n",
    "isDecimal = txt6.isdecimal()\n",
    "print(\"14. Check if all the characters in the unicode object are decimals:\",isDecimal,\"\\n\")\n",
    "\n",
    "txt7 = \"23465\"\n",
    "print(\"15. Check if all the characters in the text are digits:\",txt7.isdigit(),\"\\n\")\n",
    "\n",
    "txt8 = \"Demo\"\n",
    "print(\"15. Check if the string is a valid identifier:\",txt8.isidentifier(),\"\\n\")\n",
    "\n",
    "print(\"16. Check if all the characters in the text are in lower case:\",txt.islower(),\"\\n\")\n",
    "\n",
    "print(\"17. Check if all the characters in the text are numeric:\",txt8.isnumeric(),\"\\n\")\n",
    "\n",
    "print(\"18. Check if all the characters in the text are printable:\",txt8.isprintable(),\"\\n\")\n",
    "\n",
    "print(\"19. Check if all the characters in the text are whitespaces:\",\" \".isspace(),\"\\n\")\n",
    "\n",
    "txt9 = \"Python Is Out Of The World!\"\n",
    "print(\"20. Check if each word start with an upper case letter:\",txt9.istitle(),\"\\n\")\n",
    "\n",
    "txt10 = \"PYTHON IS FUN!\"\n",
    "print(\"21. Check if all the characters in the text are in upper case:\",txt10.isupper(),\"\\n\")\n",
    "\n",
    "tuple1 = (\"John\",\"Doe\",\"Python\")\n",
    "print(\"22. Join all items in tuple, using a $ as separator:\",'$'.join(tuple1),\"\\n\")\n",
    "\n",
    "txt12 = \"Python\"\n",
    "leftjustified = txt12.ljust(20)\n",
    "print(\"23. \",leftjustified, \"is fun to learn.\\n\")\n",
    "\n",
    "print(\"24. Lower case the string:\",txt10.lower(),\"\\n\")\n",
    "\n",
    "print(\"24. Remove spaces to the left of the string:\",\"    python\".lstrip(),\"is fun \\n\")\n",
    "\n",
    "mytranslate = txt.maketrans('o','x')\n",
    "print(\"25. Method to replace any 'o' characters with a 'x' character:\", txt.translate(mytranslate),\"\\n\")\n",
    "\n",
    "txt13 = \"I could learn Python all day\"\n",
    "part = txt13.partition(\"Python\")\n",
    "print(\"26. Search for the word, and return a tuple with three elements:\",part)\n",
    "\n",
    "txt14 = \"I like iOS\"\n",
    "repl = txt14.replace(\"iOS\", \"Python\")\n",
    "print(\"27. Replace the word 'iOS':\",repl,\"\\n\")\n",
    "\n",
    "txt15 = \"It's okay not to be okay\"\n",
    "print(\"28. Where in the text is the last occurrence of the string 'okay'?:\",txt15.rfind('okay'),\"\\n\")\n",
    "print(\"29. Where in the text is the last occurrence of the string 'okay'?:\",txt15.rindex('okay'),\"\\n\")\n",
    "\n",
    "rightjustified = txt12.ljust(20)\n",
    "print(\"30. \",rightjustified, \"is fun to learn.\\n\")\n",
    "\n",
    "rpart = txt13.rpartition(\"Python\")\n",
    "print(\"31. Search for the word, and return a tuple with three elements:\",part,\"\\n\")\n",
    "\n",
    "txt16 = \"python, swift, java\"\n",
    "rsplit = txt16.rsplit(\", \")\n",
    "print(\"32. Split a string into a list using a seperator:\",txt16.rsplit(\",\"),\"\\n\")\n",
    "print(\"33. Remove all spaces from the string:\",\"    python   \".rstrip(),\"is fun \\n\")\n",
    "print(\"34. Split string at specified separator and return list:\", txt10.split(),\"\\n\")\n",
    "txt17=\"Welcome!\\nPython is awesome\"\n",
    "print(\"35. Splits string at line breaks and return a list:\",txt17.splitlines(),\"\\n\")\n",
    "print(\"36. Check if the string starts with 'Python':\",txt.startswith('Python'),\"\\n\")\n",
    "txt18 = \"          Python is awesome    \"\n",
    "print(\"37. Returns trimmed version of string:\",txt18.strip(),\"\\n\")\n",
    "print(\"38. Swaps cases, lower / upper: \",txt.swapcase(),\"\\n\")\n",
    "print(\"39. Make the first letter in each word upper case:\",txt16.title(),\"\\n\")\n",
    "mydict = {83:  80}\n",
    "txt19 = \"Hello Sam!\"\n",
    "print(\"40. Replace any 'S' characters with a 'P' character:\",txt19.translate(mydict),\"\\n\")\n",
    "print(\"41. Make string to uppercase:\",txt16.upper(),\"\\n\")\n",
    "zfill = txt.zfill(25)\n",
    "print(\"41. method returns a copy of the string with '0' characters padded to the left:\",zfill,\"\\n\")"
   ]
  },
  {
   "cell_type": "markdown",
   "metadata": {},
   "source": [
    "## 30. \n",
    "Write a program to Sort given N numbers (Use only loop structures and Conditions to sort the elements. Use Bubble sort / Selection sort technique to sort the elements of List) Note: Don't use built in functions to sort.\n"
   ]
  },
  {
   "cell_type": "code",
   "execution_count": null,
   "metadata": {},
   "outputs": [],
   "source": [
    "def bubbleSort(lst):\n",
    "    n = len(lst)\n",
    "    for i in range(n-1):\n",
    "        for j in range(n-i-1):\n",
    "            if lst[j] > lst[j+1]:\n",
    "                lst[j], lst[j+1] = lst[j+1],lst[j]\n",
    "    return lst\n",
    "\n",
    "mylist = [45,25,144,66,254,89,102,92]\n",
    "sortedList = bubbleSort(mylist)\n",
    "print(\"Sorted list is :\",sortedList)"
   ]
  },
  {
   "cell_type": "markdown",
   "metadata": {
    "ExecuteTime": {
     "end_time": "2021-04-13T13:12:23.736966Z",
     "start_time": "2021-04-13T13:12:23.733543Z"
    }
   },
   "source": [
    "## 31.\n",
    "Write a program to search an element in the list. i.e. Perform the binary search on the sorted list having integers as elements. If the search is successful print \"Success\" else print \"un successful search\".\n"
   ]
  },
  {
   "cell_type": "code",
   "execution_count": null,
   "metadata": {},
   "outputs": [],
   "source": [
    "def bubbleSort(lst):\n",
    "    n = len(lst)\n",
    "    for i in range(n-1):\n",
    "        for j in range(n-i-1):\n",
    "            if lst[j] > lst[j+1]:\n",
    "                lst[j], lst[j+1] = lst[j+1],lst[j]\n",
    "    return lst\n",
    "\n",
    "mylist = [45,25,144,66,254,89,102,92]\n",
    "sortedList = bubbleSort(mylist)\n",
    "print(\"Sorted list is :\",sortedList)\n",
    "\n",
    "def binarySearch(lst,start,end,ele):\n",
    "    if end >= 1:\n",
    "        center = start + (end - 1) // 2\n",
    "        if lst[center] == ele:\n",
    "            return center\n",
    "        elif lst[center] > ele:\n",
    "            return binarySearch(lst,start,center-1,ele)\n",
    "        else:\n",
    "            return binarySearch(lst,center+1,end,ele)\n",
    "    else:\n",
    "        return -1\n",
    "find = 89\n",
    "result = binarySearch(sortedList,0,len(sortedList),find)\n",
    "if result != -1:\n",
    "    print(\"Success\")\n",
    "else:\n",
    "    print(\"un successful search\")"
   ]
  },
  {
   "cell_type": "markdown",
   "metadata": {
    "ExecuteTime": {
     "end_time": "2021-04-13T13:13:10.127964Z",
     "start_time": "2021-04-13T13:13:10.123313Z"
    }
   },
   "source": [
    "## 32.\n",
    "Write a program to perform following operations on List. Create three lists as List1, List2 and List3 having 5 city names each list.\n",
    "\n",
    "a. Find the length city of each list element and print city and length\n",
    "\n",
    "b. Find the maximum and minimum string length element of each list\n",
    "\n",
    "c. Compare each list and determine which city is biggest & smallest with length.\n",
    "\n",
    "d. Delete first and last element of each list and print list contents.\n"
   ]
  },
  {
   "cell_type": "code",
   "execution_count": null,
   "metadata": {},
   "outputs": [],
   "source": [
    "List1 = ['Bengaluru', 'Mangaluru', 'Mysuru', 'Belgavi','Udapi']\n",
    "List2 = ['Mumbai','Pune','Nagpur','Nashik','Kolhapur']\n",
    "List3 = ['Chennai', 'Hyderabad','Kochi','Madurai','Puducherry']\n",
    "List4 = ['Delhi','Jaipur','Kanpur','Agra','Udaipur']\n",
    "\n",
    "def cityAndLenDict(lst):\n",
    "    dict1 = {}\n",
    "    for city in lst:\n",
    "        dict1[city] = len(city)\n",
    "    return dict1\n",
    "        \n",
    "concatLst = List1 + List2 + List3 + List4\n",
    "cityDict = cityAndLenDict(concatLst)\n",
    "print(cityDict)\n",
    "print()\n",
    "print(\"List1:- \\nmax :\",max(cityAndLenDict(List1).values()),\"\\nmin:\",min(cityAndLenDict(List1).values()),\"\\n\")\n",
    "print(\"List2:- \\nmax :\",max(cityAndLenDict(List2).values()),\"\\nmin:\",min(cityAndLenDict(List2).values()),\"\\n\")\n",
    "print(\"List3:- \\nmax :\",max(cityAndLenDict(List3).values()),\"\\nmin:\",min(cityAndLenDict(List3).values()),\"\\n\")\n",
    "print(\"List4:- \\nmax :\",max(cityAndLenDict(List4).values()),\"\\nmin:\",min(cityAndLenDict(List4).values()),\"\\n\")\n",
    "\n",
    "def findCityWithMaxLen(dct):\n",
    "    maxLen = max(dct.values())\n",
    "    for key,val in dct.items():\n",
    "        if maxLen == val:\n",
    "            return key\n",
    "def findCityWithMinLen(dct):\n",
    "    minLen = min(dct.values())\n",
    "    for key,val in dct.items():\n",
    "        if minLen == val:\n",
    "            return key\n",
    "print(\"The city with max length of\",max(cityDict.values()),\" is:\",findCityWithMaxLen(cityDict),\"\\n\")\n",
    "print(\"The city with min length of\",min(cityDict.values()),\" is:\",findCityWithMinLen(cityDict),\"\\n\")\n",
    "\n",
    "def deleteFirstAndLastEle(lst):\n",
    "    lst.pop()\n",
    "    del lst[0]\n",
    "    return lst\n",
    "print(\"List1 after deleting the first and last element is\",deleteFirstAndLastEle(List1))\n",
    "print(\"List2 after deleting the first and last element is\",deleteFirstAndLastEle(List2))\n",
    "print(\"List3 after deleting the first and last element is\",deleteFirstAndLastEle(List3))\n",
    "print(\"List4 after deleting the first and last element is\",deleteFirstAndLastEle(List4))"
   ]
  },
  {
   "cell_type": "markdown",
   "metadata": {},
   "source": [
    "## 33.\n",
    "Create a list with 7 elements and perform following operations. Let the list be initialized with List1 any 5 city names;\n",
    "a) Append a new city name to the List\n",
    "\n",
    "b) Insert a city name at 4th index position\n",
    "\n",
    "c) Sort the list and print all elements\n",
    "\n",
    "d) Sort the elements of the list in descending order.\n",
    "\n",
    "e) delete last three elements using pop operation\n"
   ]
  },
  {
   "cell_type": "code",
   "execution_count": 20,
   "metadata": {
    "ExecuteTime": {
     "end_time": "2021-04-16T11:43:40.504948Z",
     "start_time": "2021-04-16T11:43:40.499911Z"
    }
   },
   "outputs": [
    {
     "name": "stdout",
     "output_type": "stream",
     "text": [
      "After appending Delhi to list : ['Bengaluru', 'Mangaluru', 'Mysuru', 'Belgavi', 'Udapi', 'Delhi']\n",
      "After inserting Jaipur to list : ['Bengaluru', 'Mangaluru', 'Mysuru', 'Jaipur', 'Belgavi', 'Udapi', 'Delhi']\n",
      "After sorting the list in ascending order: ['Belgavi', 'Bengaluru', 'Delhi', 'Jaipur', 'Mangaluru', 'Mysuru', 'Udapi']\n",
      "After sorting the list in descending order: ['Udapi', 'Mysuru', 'Mangaluru', 'Jaipur', 'Delhi', 'Bengaluru', 'Belgavi']\n",
      "After deleting last 3 elements from the list: ['Udapi', 'Mysuru', 'Mangaluru', 'Jaipur']\n"
     ]
    }
   ],
   "source": [
    "List1 = ['Bengaluru', 'Mangaluru', 'Mysuru', 'Belgavi','Udapi']\n",
    "List1.append(\"Delhi\")\n",
    "print(\"After appending Delhi to list :\", List1)\n",
    "List1.insert(3,\"Jaipur\")\n",
    "print(\"After inserting Jaipur to list :\", List1)\n",
    "List1.sort()\n",
    "print(\"After sorting the list in ascending order:\",List1)\n",
    "List1.sort(reverse=True)\n",
    "print(\"After sorting the list in descending order:\",List1)\n",
    "del List1[len(List1)-3:len(List1)]\n",
    "print(\"After deleting last 3 elements from the list:\",List1)"
   ]
  },
  {
   "cell_type": "markdown",
   "metadata": {},
   "source": [
    "## 34.\n",
    "Create 3 Lists (list1, list2, list3) with integer and perform following operations\n",
    "\n",
    "a) Create Maxlist by taking 2 maximum elements from each list.\n",
    "\n",
    "b) Find average value from all the elements of Maxlist.\n",
    "\n",
    "c) Create a MinlIst by taking 2 minimum elements from each list \n",
    "\n",
    "d) Find the average value from all the elements of Minlist"
   ]
  },
  {
   "cell_type": "code",
   "execution_count": 30,
   "metadata": {
    "ExecuteTime": {
     "end_time": "2021-04-16T11:58:21.704396Z",
     "start_time": "2021-04-16T11:58:21.698436Z"
    }
   },
   "outputs": [
    {
     "name": "stdout",
     "output_type": "stream",
     "text": [
      "Maxlist by taking atleast 2 maximum elements from each list: [5, 4, 9, 8, 13, 12]\n",
      "Average value from all the elements of Maxlist: 8.5\n",
      "MinList by taking atleast 2 minimum elements from each list: [1, 2, 5, 6, 9, 10]\n",
      "Average value from all the elements of Maxlist: 5.5\n"
     ]
    }
   ],
   "source": [
    "list1 = [1,2,3,4,5]\n",
    "list2 = [5,6,7,8,9]\n",
    "list3 = [9,10,11,12,13]\n",
    "list1.sort()\n",
    "list2.sort()\n",
    "list3.sort()\n",
    "def average(lst):\n",
    "    return sum(lst) / len(lst)\n",
    "MaxList = [list1[-1],list1[-2],list2[-1],list2[-2],list3[-1],list3[-2]]\n",
    "print(\"Maxlist by taking atleast 2 maximum elements from each list:\",MaxList)\n",
    "print(\"Average value from all the elements of Maxlist:\",(average(MaxList)))\n",
    "MinList = [list1[0],list1[1],list2[0],list2[1],list3[0],list3[1]]\n",
    "print(\"MinList by taking atleast 2 minimum elements from each list:\",MinList)\n",
    "print(\"Average value from all the elements of Maxlist:\",(average(MinList)))"
   ]
  },
  {
   "cell_type": "markdown",
   "metadata": {},
   "source": [
    "## 35.\n",
    "Create Tuple as specified below;\n",
    "\n",
    "a) Create a Tuple tup1 with days in a week & print the tuple elements\n",
    "\n",
    "b) Create a Tuple tup2  with months in a year and concatenate it with tup1\n",
    "\n",
    "c) Create 3 tuples( tup1,tup2,tup3) with numbers and determine which is greater.\n",
    "\n",
    "d) Try to delete an individual element in tup1 and try deleting complete Tuple -tup1 notice the error type you get.\n",
    "\n",
    "e) Insert new element in to tuple by typecasting it to List"
   ]
  },
  {
   "cell_type": "code",
   "execution_count": 44,
   "metadata": {
    "ExecuteTime": {
     "end_time": "2021-04-16T12:13:58.371824Z",
     "start_time": "2021-04-16T12:13:58.365348Z"
    }
   },
   "outputs": [
    {
     "name": "stdout",
     "output_type": "stream",
     "text": [
      "the days in a week tuple: \n",
      " ('Monday', 'Tuesday', 'Wednesday', 'Thursday', 'Friday', 'Saturday')\n",
      "Months in a year:\n",
      " ('January', 'February', 'March', 'April', 'May', 'June', 'July', 'August', 'September', 'October', 'November', 'December')\n",
      "biggest tuple among three is  (7, 6, 5, 4) \n",
      "\n",
      "Inserting new element in to tuple by typecasting it to List: [1, 8, 7, 10]\n"
     ]
    }
   ],
   "source": [
    "import math\n",
    "tupledays = ('Monday','Tuesday','Wednesday','Thursday','Friday','Saturday')\n",
    "print(\"the days in a week tuple: \\n\",tupledays)\n",
    "tuplemonth = ('January','February','March','April','May','June','July','August','September','October','November','December')\n",
    "print(\"Months in a year:\\n\",tuplemonth)\n",
    "\n",
    "tuple1 = (2,3,4,5,6)\n",
    "tuple2 = (1,8,7)\n",
    "tuple3 = (7,6,5,4)\n",
    "biggestTuple = tuple1\n",
    "if(tuple2 > biggestTuple):\n",
    "    biggestTuple=tuple2\n",
    "\n",
    "if(tuple3 > biggestTuple):\n",
    "    biggestTuple=tuple3\n",
    "\n",
    "print(\"biggest tuple among three is \",biggestTuple,\"\\n\")\n",
    "\n",
    "#del tuple1[0]\n",
    "#print(tuple1)  ----> Error 'tuple' object doesn't support item deletion\n",
    "del tuple1\n",
    "#print(tuple1)----> NameError: name 'tuple1' is not defined\n",
    "list2=list(tuple2)\n",
    "list2.append(10)\n",
    "print(\"Inserting new element in to tuple by typecasting it to List:\",list2)"
   ]
  },
  {
   "cell_type": "markdown",
   "metadata": {},
   "source": [
    "## 36.\n",
    "Create two tuples tup1 & tup2 and apply all built in functions on tuples. ( Refer Tutorial for the Built in functions list)\n"
   ]
  },
  {
   "cell_type": "code",
   "execution_count": 51,
   "metadata": {
    "ExecuteTime": {
     "end_time": "2021-04-16T12:28:47.629136Z",
     "start_time": "2021-04-16T12:28:47.622901Z"
    }
   },
   "outputs": [
    {
     "name": "stdout",
     "output_type": "stream",
     "text": [
      "length of the tuple1 is  9 \n",
      "\n",
      "length of the tuple2 is  5 \n",
      "\n",
      "max element in tuple1 is 9 and max in tuple2 is: 12 \n",
      "\n",
      "min element in tuple1 is 0 and min in tuple2 is: 1 \n",
      "\n",
      "List is converted into tuple: (2, 4, 6, 8) \n",
      "\n",
      "Check number of times 2 is present in tuple1 : 4 \n",
      "\n",
      "Check index of first occurence of 2 is present in tuple1 : 1 \n",
      "\n"
     ]
    }
   ],
   "source": [
    "tuple1=(4,2,9,2,2,1,3,2,0)\n",
    "tuple2=(1,8,3,6,12)\n",
    "print(\"length of the tuple1 is \",len(tuple1),\"\\n\")\n",
    "print(\"length of the tuple2 is \",len(tuple2),\"\\n\")\n",
    "print(\"max element in tuple1 is\",max(tuple1),\"and max in tuple2 is:\",max(tuple2),\"\\n\")\n",
    "print(\"min element in tuple1 is\",min(tuple1),\"and min in tuple2 is:\",min(tuple2),\"\\n\")\n",
    "\n",
    "list1 = [2,4,6,8]\n",
    "tuple3 = tuple(list1)\n",
    "print(\"List is converted into tuple:\",tuple3,\"\\n\")\n",
    "\n",
    "print(\"Check number of times 2 is present in tuple1 :\",tuple1.count(2),\"\\n\")\n",
    "print(\"Check index of first occurence of 2 is present in tuple1 :\",tuple1.index(2),\"\\n\")"
   ]
  },
  {
   "cell_type": "markdown",
   "metadata": {},
   "source": [
    "## 37.\n",
    "Create 3 dictionaries (dict1, dict2, dict3) with 3 elements each. Perform following operations\n",
    "\n",
    "a) Compare dictionaries to determine the biggest.\n",
    "\n",
    "b) Add new elements in to the dictionaries dict1, dict2\n",
    "\n",
    "c) print the length of dict1, dict2, dict3.\n",
    "\n",
    "d) Convert dict1, dict2, and dict3 dictionaries as string and concatenate all strings together."
   ]
  },
  {
   "cell_type": "code",
   "execution_count": 60,
   "metadata": {
    "ExecuteTime": {
     "end_time": "2021-04-16T12:50:44.858998Z",
     "start_time": "2021-04-16T12:50:44.852518Z"
    }
   },
   "outputs": [
    {
     "name": "stdout",
     "output_type": "stream",
     "text": [
      "The dict1 is: {'John': 40000, 'Tim': 60000, 'Susan': 30000}\n",
      "The dict2 is: {'Ram': 30, 'Sita': 28, 'Laxman': 50}\n",
      "The dict3 is: {'box': 1, 'desk': 5, 'chalk': 20}\n",
      "The dict1 after inserting new value is: {'John': 40000, 'Tim': 60000, 'Susan': 30000, 'Ram': 50000}\n",
      "The dict2 after inserting new value is: {'Ram': 30, 'Sita': 28, 'Laxman': 50, 'John': 32}\n",
      "The length dict1 is: 4\n",
      "The length dict2 is: 4\n",
      "The length dict3 is: 3\n",
      "Convert dict1, dict2, and dict3 dictionaries as string and concatenate:  {'John': 40000, 'Tim': 60000, 'Susan': 30000, 'Ram': 50000}{'Ram': 30, 'Sita': 28, 'Laxman': 50, 'John': 32}{'box': 1, 'desk': 5, 'chalk': 20}\n"
     ]
    }
   ],
   "source": [
    "dict1 = {\"John\":40000, \"Tim\":60000, \"Susan\":30000}\n",
    "dict2 = {\"Ram\":30, \"Sita\":28, \"Laxman\":50}\n",
    "dict3 = {\"box\": 1, \"desk\":5, \"chalk\": 20}\n",
    "\n",
    "print(\"The dict1 is:\",dict1)\n",
    "print(\"The dict2 is:\",dict2)\n",
    "print(\"The dict3 is:\",dict3)\n",
    "\n",
    "dict1['Ram'] = 50000\n",
    "dict2['John'] = 32\n",
    "print(\"The dict1 after inserting new value is:\",dict1)\n",
    "print(\"The dict2 after inserting new value is:\",dict2)\n",
    "\n",
    "print(\"The length dict1 is:\",len(dict1))\n",
    "print(\"The length dict2 is:\",len(dict2))\n",
    "print(\"The length dict3 is:\",len(dict3))\n",
    "\n",
    "finalString = str(dict1) + str(dict2) + str(dict3)\n",
    "print(\"Convert dict1, dict2, and dict3 dictionaries as string and concatenate: \",finalString)\n"
   ]
  },
  {
   "cell_type": "markdown",
   "metadata": {},
   "source": [
    "## 38.\n",
    "Create 2 dictionaries as follows;\n",
    "dict1 ={'Name':'Ramakrishna','Age':25} ",
    "dict2={'EmpId':1234,'Salary':5000}\n",
    "\n",
    "Perform following operations   \n",
    "\n",
    "a) Create single dictionary by merging dict1 and dict2\n",
    "\n",
    "b) Update the salary to 10% ",
    "c) Update the age to 26\n",
    "\n",
    "d) Insert the new element with key \"grade\" and assign value as \"B1\"\n",
    "\n",
    "e) Extract and print all values and keys separately.\n",
    "\n",
    "f) delete the element with key 'Age' and print dictionary elements.\n"
   ]
  },
  {
   "cell_type": "code",
   "execution_count": 71,
   "metadata": {
    "ExecuteTime": {
     "end_time": "2021-04-16T17:44:55.027081Z",
     "start_time": "2021-04-16T17:44:55.022766Z"
    }
   },
   "outputs": [
    {
     "name": "stdout",
     "output_type": "stream",
     "text": [
      "the new dictionary after merge is: {'EmpId': 1234, 'Salary': 5000, 'Name': 'Ramakrishna', 'Age': 25}\n",
      "All the keys in dict3 are: dict_keys(['EmpId', 'Salary', 'Name', 'Age', 'grade'])\n",
      "All the values in dict3 are: dict_values([1234, 5500, 'Ramakrishna', 26, 'B1'])\n",
      "Dictionary after delete: {'EmpId': 1234, 'Salary': 5500, 'Name': 'Ramakrishna', 'grade': 'B1'}\n"
     ]
    }
   ],
   "source": [
    "dict1 ={'Name':'Ramakrishna','Age':25}\n",
    "dict2={'EmpId':1234,'Salary':5000}\n",
    "\n",
    "dict2.update(dict1)\n",
    "dict3 = dict2\n",
    "print(\"the new dictionary after merge is:\",dict3)\n",
    "dict3['Salary'] = 5500\n",
    "dict3['Age'] = 26\n",
    "dict3['grade'] = 'B1'\n",
    "print(\"All the keys in dict3 are:\",dict3.keys())\n",
    "print(\"All the values in dict3 are:\",dict3.values())\n",
    "del dict3['Age']\n",
    "print(\"Dictionary after delete:\",dict3)\n"
   ]
  },
  {
   "cell_type": "markdown",
   "metadata": {},
   "source": [
    "## 39.\n",
    "Using Time and Calendar module, Print current date and time. Print current month calendar.\n"
   ]
  },
  {
   "cell_type": "code",
   "execution_count": 74,
   "metadata": {
    "ExecuteTime": {
     "end_time": "2021-04-16T17:52:34.637438Z",
     "start_time": "2021-04-16T17:52:34.633110Z"
    }
   },
   "outputs": [
    {
     "name": "stdout",
     "output_type": "stream",
     "text": [
      "Current date and time:  2021-04-16 23:22:34.634576\n",
      "Current month calendat:      April 2021\n",
      "Mo Tu We Th Fr Sa Su\n",
      "          1  2  3  4\n",
      " 5  6  7  8  9 10 11\n",
      "12 13 14 15 16 17 18\n",
      "19 20 21 22 23 24 25\n",
      "26 27 28 29 30\n",
      "\n"
     ]
    }
   ],
   "source": [
    "from datetime import datetime\n",
    "import calendar\n",
    "print(\"Current date and time: \", datetime.now())\n",
    "print(\"Current month calendat:\",calendar.month(date.today().year, date.today().month))\n"
   ]
  },
  {
   "cell_type": "markdown",
   "metadata": {},
   "source": [
    "## 40.\n",
    "Using time module perform following operations.\n",
    "\n",
    "a) Print current time for every 5 seconds up to 1 minute time interval.\n",
    "\n",
    "b) Write a program to find out how much CPU time is taken for the execution of above(32.a)  program.\n"
   ]
  },
  {
   "cell_type": "code",
   "execution_count": 88,
   "metadata": {
    "ExecuteTime": {
     "end_time": "2021-04-16T18:38:10.845255Z",
     "start_time": "2021-04-16T18:37:10.803074Z"
    }
   },
   "outputs": [
    {
     "name": "stdout",
     "output_type": "stream",
     "text": [
      "Current time: 00:07:10\n",
      "Current time: 00:07:15\n",
      "Current time: 00:07:20\n",
      "Current time: 00:07:25\n",
      "Current time: 00:07:30\n",
      "Current time: 00:07:35\n",
      "Current time: 00:07:40\n",
      "Current time: 00:07:45\n",
      "Current time: 00:07:50\n",
      "Current time: 00:07:55\n",
      "Current time: 00:08:00\n",
      "Current time: 00:08:05\n",
      "Total runtime of the program is 60.037930965423584\n"
     ]
    }
   ],
   "source": [
    "from datetime import datetime\n",
    "import time\n",
    "\n",
    "\n",
    "begin = time.time()\n",
    "while time.time() - begin < 60:\n",
    "    print(\"Current time:\", datetime.now().strftime(\"%H:%M:%S\"))   \n",
    "    time.sleep(5)\n",
    "\n",
    "end = time.time()\n",
    "print(f\"Total runtime of the program is {end - begin}\")\n",
    "\n"
   ]
  }
 ],
 "metadata": {
  "kernelspec": {
   "display_name": "Python 3",
   "language": "python",
   "name": "python3"
  },
  "language_info": {
   "codemirror_mode": {
    "name": "ipython",
    "version": 3
   },
   "file_extension": ".py",
   "mimetype": "text/x-python",
   "name": "python",
   "nbconvert_exporter": "python",
   "pygments_lexer": "ipython3",
   "version": "3.8.5"
  }
 },
 "nbformat": 4,
 "nbformat_minor": 4
}
